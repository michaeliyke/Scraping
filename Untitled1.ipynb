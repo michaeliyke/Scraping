{
 "cells": [
  {
   "cell_type": "code",
   "execution_count": 34,
   "id": "a1bca6a3",
   "metadata": {},
   "outputs": [],
   "source": [
    "import requests\n",
    "import m3u8\n"
   ]
  },
  {
   "cell_type": "code",
   "execution_count": 35,
   "id": "67e7820a",
   "metadata": {},
   "outputs": [],
   "source": [
    "url = \"https://manifest.prod.boltdns.net/manifest/v1/hls/v4/clear/3588749423001/f39b0b30-1456-41bb-b9de-6a6513085020/10s/master.m3u8?fastly_token=NjA4MGU4MTNfNWRmMTFjY2EwNmIxMjMxM2MwZWM3MzAwZWQ2MzdjYTM3MjM4ZTU5ZTMwNmEzYzcxYTRiMjYxYjEyYzk3MDFiYg%3D%3D\""
   ]
  },
  {
   "cell_type": "code",
   "execution_count": 36,
   "id": "61ea4718",
   "metadata": {},
   "outputs": [],
   "source": [
    "R = requests.get(url)\n",
    "master = m3u8.loads(R.text)\n"
   ]
  },
  {
   "cell_type": "code",
   "execution_count": 37,
   "id": "1171f0f9",
   "metadata": {},
   "outputs": [],
   "source": [
    "def PR(D):\n",
    "    for L in D[\"playlists\"]:\n",
    "        print(\"\\n\", L, \"\\n\")"
   ]
  },
  {
   "cell_type": "code",
   "execution_count": 44,
   "id": "3fe6bd6d",
   "metadata": {
    "scrolled": true
   },
   "outputs": [],
   "source": [
    "playlistUri = master.data[\"playlists\"][1][\"uri\"]"
   ]
  },
  {
   "cell_type": "code",
   "execution_count": 45,
   "id": "a397edc4",
   "metadata": {},
   "outputs": [
    {
     "ename": "NameError",
     "evalue": "name 'REQUESTS' is not defined",
     "output_type": "error",
     "traceback": [
      "\u001b[1;31m---------------------------------------------------------------------------\u001b[0m",
      "\u001b[1;31mNameError\u001b[0m                                 Traceback (most recent call last)",
      "\u001b[1;32m<ipython-input-45-2d1ab4e9dc32>\u001b[0m in \u001b[0;36m<module>\u001b[1;34m\u001b[0m\n\u001b[1;32m----> 1\u001b[1;33m \u001b[0mr\u001b[0m \u001b[1;33m=\u001b[0m  \u001b[0mREQUESTS\u001b[0m\u001b[1;33m.\u001b[0m\u001b[0mget\u001b[0m\u001b[1;33m(\u001b[0m\u001b[0mplaylistUrl\u001b[0m\u001b[1;33m)\u001b[0m\u001b[1;33m\u001b[0m\u001b[1;33m\u001b[0m\u001b[0m\n\u001b[0m",
      "\u001b[1;31mNameError\u001b[0m: name 'REQUESTS' is not defined"
     ]
    }
   ],
   "source": [
    "r =  REQUESTS.get(playlistUrl)"
   ]
  }
 ],
 "metadata": {
  "kernelspec": {
   "display_name": "Python 3",
   "language": "python",
   "name": "python3"
  },
  "language_info": {
   "codemirror_mode": {
    "name": "ipython",
    "version": 3
   },
   "file_extension": ".py",
   "mimetype": "text/x-python",
   "name": "python",
   "nbconvert_exporter": "python",
   "pygments_lexer": "ipython3",
   "version": "3.9.4"
  }
 },
 "nbformat": 4,
 "nbformat_minor": 5
}
